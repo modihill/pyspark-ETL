{
 "cells": [
  {
   "cell_type": "markdown",
   "metadata": {},
   "source": [
    "# Spark ETL with PostgreSQL database\n",
    "\n",
    "[1. Create Connection with Postgre Database](#1)\n",
    "\n",
    "[2. Read Data from Postgre Database](#2)\n",
    "\n",
    "[3. Transform Data](#3)\n",
    "\n",
    "[4. Write Data into Postgre Server](#4)\n",
    "\n",
    "\n",
    "### Load libraries"
   ]
  },
  {
   "cell_type": "code",
   "execution_count": 32,
   "metadata": {},
   "outputs": [],
   "source": [
    "# loading libraries and staring spark Sessions\n",
    "from pyspark.sql import SparkSession"
   ]
  },
  {
   "cell_type": "code",
   "execution_count": 33,
   "metadata": {},
   "outputs": [],
   "source": [
    "# starting spark session\n",
    "\n",
    "spark = SparkSession.builder.appName(\"Spark MySQL\")\\\n",
    "        .getOrCreate()\n",
    "\n",
    "sqlContext = SparkSession(spark)\n",
    "\n",
    "#dont show any warning, only errors\n",
    "spark.sparkContext.setLogLevel(\"ERROR\")"
   ]
  },
  {
   "cell_type": "code",
   "execution_count": null,
   "metadata": {},
   "outputs": [],
   "source": []
  },
  {
   "cell_type": "code",
   "execution_count": null,
   "metadata": {},
   "outputs": [],
   "source": []
  }
 ],
 "metadata": {
  "kernelspec": {
   "display_name": "Python 3",
   "language": "python",
   "name": "python3"
  }
 },
 "nbformat": 4,
 "nbformat_minor": 2
}
