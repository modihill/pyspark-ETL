{
 "cells": [
  {
   "cell_type": "markdown",
   "id": "3a51c7bc-a588-4d9e-bb74-a26148c92900",
   "metadata": {
    "tags": []
   },
   "source": [
    "\n",
    "# Chapter 3 -> Spark ETL with Azure (Blob | ADLS)\n",
    "\n",
    "Task to do \n",
    "1. Install required spark libraries\n",
    "2. Create connection with Azure Blob storage\n",
    "3. Read data from blob and store into dataframe\n",
    "4. Transform data\n",
    "5. write data into parquet file \n",
    "6. write data into JSON file\n",
    "\n",
    "Reference:\n",
    "https://learn.microsoft.com/en-us/azure/open-datasets/dataset-catalog"
   ]
  },
  {
   "cell_type": "code",
   "execution_count": 1,
   "id": "ea22d710-40f5-4b64-803e-83c583aa3472",
   "metadata": {},
   "outputs": [],
   "source": [
    "# First Load all the required library and also Start Spark Session\n",
    "# Load all the required library\n",
    "from pyspark.sql import SparkSession"
   ]
  },
  {
   "cell_type": "code",
   "execution_count": 2,
   "id": "368cc9c2-6f26-4d6b-93ff-d9ee7541869c",
   "metadata": {},
   "outputs": [
    {
     "name": "stderr",
     "output_type": "stream",
     "text": [
      "WARNING: An illegal reflective access operation has occurred\n",
      "WARNING: Illegal reflective access by org.apache.spark.unsafe.Platform (file:/opt/spark/jars/spark-unsafe_2.12-3.2.1.jar) to constructor java.nio.DirectByteBuffer(long,int)\n",
      "WARNING: Please consider reporting this to the maintainers of org.apache.spark.unsafe.Platform\n",
      "WARNING: Use --illegal-access=warn to enable warnings of further illegal reflective access operations\n",
      "WARNING: All illegal access operations will be denied in a future release\n",
      "Using Spark's default log4j profile: org/apache/spark/log4j-defaults.properties\n",
      "Setting default log level to \"WARN\".\n",
      "To adjust logging level use sc.setLogLevel(newLevel). For SparkR, use setLogLevel(newLevel).\n",
      "23/03/09 21:58:15 WARN NativeCodeLoader: Unable to load native-hadoop library for your platform... using builtin-java classes where applicable\n",
      "23/03/09 21:58:18 WARN Utils: Service 'SparkUI' could not bind on port 4040. Attempting port 4041.\n",
      "23/03/09 21:58:18 WARN Utils: Service 'SparkUI' could not bind on port 4041. Attempting port 4042.\n",
      "23/03/09 21:58:18 WARN Utils: Service 'SparkUI' could not bind on port 4042. Attempting port 4043.\n"
     ]
    }
   ],
   "source": [
    "#Start Spark Session\n",
    "spark = SparkSession.builder.appName(\"chapter3\").getOrCreate()\n",
    "sqlContext = SparkSession(spark)\n",
    "#Dont Show warning only error\n",
    "spark.sparkContext.setLogLevel(\"ERROR\")"
   ]
  },
  {
   "cell_type": "markdown",
   "id": "f79815e9-7597-4a08-a8ea-098ad0e556ec",
   "metadata": {},
   "source": [
    "1. Create connection with Azure Blob storage"
   ]
  },
  {
   "cell_type": "code",
   "execution_count": 3,
   "id": "d6f6fd8e-6367-494f-9682-a901d2822473",
   "metadata": {},
   "outputs": [],
   "source": [
    "# Azure storage for Holiday \n",
    "blob_account_name = \"azureopendatastorage\"\n",
    "blob_container_name = \"holidaydatacontainer\"\n",
    "blob_relative_path = \"Processed\"\n",
    "blob_sas_token = r\"\""
   ]
  },
  {
   "cell_type": "code",
   "execution_count": 4,
   "id": "d384937f-4d7b-4a7d-804b-2b891e08ca85",
   "metadata": {},
   "outputs": [
    {
     "name": "stdout",
     "output_type": "stream",
     "text": [
      "Remote blob path: wasbs://holidaydatacontainer@azureopendatastorage.blob.core.windows.net/Processed\n"
     ]
    }
   ],
   "source": [
    "\n",
    "# Allow SPARK to read from Blob remotely\n",
    "wasbs_path = 'wasbs://%s@%s.blob.core.windows.net/%s' % (blob_container_name, blob_account_name, blob_relative_path)\n",
    "spark.conf.set('fs.azure.sas.%s.%s.blob.core.windows.net' % (blob_container_name, blob_account_name),blob_sas_token)\n",
    "print('Remote blob path: ' + wasbs_path)"
   ]
  },
  {
   "cell_type": "markdown",
   "id": "1a9ffb71-9748-4dba-b0ec-42ca3c491443",
   "metadata": {},
   "source": [
    "3. Read data from blob and store into dataframe"
   ]
  },
  {
   "cell_type": "code",
   "execution_count": 5,
   "id": "666621b6-0800-44d0-ad87-aa400f790ffc",
   "metadata": {},
   "outputs": [
    {
     "name": "stderr",
     "output_type": "stream",
     "text": [
      "                                                                                \r"
     ]
    }
   ],
   "source": [
    "df = spark.read.parquet(wasbs_path)"
   ]
  },
  {
   "cell_type": "code",
   "execution_count": 6,
   "id": "e26c9728-6a0d-4d6e-9870-ec0bcbd49728",
   "metadata": {},
   "outputs": [
    {
     "name": "stdout",
     "output_type": "stream",
     "text": [
      "root\n",
      " |-- countryOrRegion: string (nullable = true)\n",
      " |-- holidayName: string (nullable = true)\n",
      " |-- normalizeHolidayName: string (nullable = true)\n",
      " |-- isPaidTimeOff: boolean (nullable = true)\n",
      " |-- countryRegionCode: string (nullable = true)\n",
      " |-- date: timestamp (nullable = true)\n",
      "\n"
     ]
    }
   ],
   "source": [
    "df.printSchema()"
   ]
  },
  {
   "cell_type": "code",
   "execution_count": 7,
   "id": "c3a9c513-d6e1-4e59-9e56-a12da2533375",
   "metadata": {},
   "outputs": [
    {
     "name": "stderr",
     "output_type": "stream",
     "text": [
      "[Stage 1:>                                                          (0 + 1) / 1]\r"
     ]
    },
    {
     "name": "stdout",
     "output_type": "stream",
     "text": [
      "+---------------+--------------------+--------------------+-------------+-----------------+-------------------+\n",
      "|countryOrRegion|         holidayName|normalizeHolidayName|isPaidTimeOff|countryRegionCode|               date|\n",
      "+---------------+--------------------+--------------------+-------------+-----------------+-------------------+\n",
      "|      Argentina|Año Nuevo [New Ye...|Año Nuevo [New Ye...|         null|               AR|1970-01-01 00:00:00|\n",
      "|      Australia|      New Year's Day|      New Year's Day|         null|               AU|1970-01-01 00:00:00|\n",
      "+---------------+--------------------+--------------------+-------------+-----------------+-------------------+\n",
      "only showing top 2 rows\n",
      "\n"
     ]
    },
    {
     "name": "stderr",
     "output_type": "stream",
     "text": [
      "                                                                                \r"
     ]
    }
   ],
   "source": [
    "df.show(n=2)"
   ]
  },
  {
   "cell_type": "markdown",
   "id": "34762ecc-82b1-4b81-99f4-e480a43cbf92",
   "metadata": {},
   "source": [
    "4. Transform data"
   ]
  },
  {
   "cell_type": "code",
   "execution_count": 8,
   "id": "47d997c9-a0da-4936-9c62-ac3907efd874",
   "metadata": {},
   "outputs": [
    {
     "name": "stdout",
     "output_type": "stream",
     "text": [
      "Register the DataFrame as a SQL temporary view: source\n"
     ]
    }
   ],
   "source": [
    "print('Register the DataFrame as a SQL temporary view: source')\n",
    "df.createOrReplaceTempView('tempSource')"
   ]
  },
  {
   "cell_type": "code",
   "execution_count": 9,
   "id": "1ba63625-c1a8-4e45-997f-84b2150c1eae",
   "metadata": {},
   "outputs": [
    {
     "name": "stdout",
     "output_type": "stream",
     "text": [
      "Displaying top 10 rows: \n"
     ]
    },
    {
     "data": {
      "text/plain": [
       "DataFrame[countryOrRegion: string, holidayName: string, normalizeHolidayName: string, isPaidTimeOff: boolean, countryRegionCode: string, date: timestamp]"
      ]
     },
     "metadata": {},
     "output_type": "display_data"
    }
   ],
   "source": [
    "print('Displaying top 10 rows: ')\n",
    "display(spark.sql('SELECT * FROM tempSource LIMIT 10'))"
   ]
  },
  {
   "cell_type": "code",
   "execution_count": 10,
   "id": "4e6bf6f7-bf6d-455a-86c1-d1759c03eda0",
   "metadata": {},
   "outputs": [],
   "source": [
    "newdf = spark.sql('SELECT * FROM tempSource LIMIT 10')"
   ]
  },
  {
   "cell_type": "markdown",
   "id": "ca5dc217-35ac-43c2-895c-ae0a9c8bddac",
   "metadata": {},
   "source": [
    "5. write data into parquet file \n",
    "6. write data into JSON file"
   ]
  },
  {
   "cell_type": "code",
   "execution_count": 11,
   "id": "84f36d51-366e-4e7c-80fa-d2a72475d262",
   "metadata": {},
   "outputs": [
    {
     "name": "stderr",
     "output_type": "stream",
     "text": [
      "                                                                                \r"
     ]
    }
   ],
   "source": [
    "newdf.write.format(\"parquet\").option(\"compression\",\"snappy\").save(\"parquetholidaydata\",mode='append')"
   ]
  },
  {
   "cell_type": "code",
   "execution_count": 12,
   "id": "c417172f-ae9a-4331-b871-cb1599a27446",
   "metadata": {},
   "outputs": [
    {
     "name": "stderr",
     "output_type": "stream",
     "text": [
      "                                                                                \r"
     ]
    }
   ],
   "source": [
    "newdf.write.format(\"csv\").option(\"header\",\"true\").save(\"csvdata\",mode='append')"
   ]
  },
  {
   "cell_type": "code",
   "execution_count": 13,
   "id": "defd421f-3e4e-427e-88cd-97ecf299ac5b",
   "metadata": {},
   "outputs": [
    {
     "name": "stderr",
     "output_type": "stream",
     "text": [
      "[Stage 8:>                                                          (0 + 1) / 1]\r"
     ]
    },
    {
     "name": "stdout",
     "output_type": "stream",
     "text": [
      "+---------------+--------------------+--------------------+-------------+-----------------+-------------------+\n",
      "|countryOrRegion|         holidayName|normalizeHolidayName|isPaidTimeOff|countryRegionCode|               date|\n",
      "+---------------+--------------------+--------------------+-------------+-----------------+-------------------+\n",
      "|      Argentina|Año Nuevo [New Ye...|Año Nuevo [New Ye...|         null|               AR|1970-01-01 00:00:00|\n",
      "|      Australia|      New Year's Day|      New Year's Day|         null|               AU|1970-01-01 00:00:00|\n",
      "|        Austria|             Neujahr|             Neujahr|         null|               AT|1970-01-01 00:00:00|\n",
      "|        Belgium|       Nieuwjaarsdag|       Nieuwjaarsdag|         null|               BE|1970-01-01 00:00:00|\n",
      "|         Brazil|            Ano novo|            Ano novo|         null|               BR|1970-01-01 00:00:00|\n",
      "|         Canada|      New Year's Day|      New Year's Day|         null|               CA|1970-01-01 00:00:00|\n",
      "|       Colombia|Año Nuevo [New Ye...|Año Nuevo [New Ye...|         null|               CO|1970-01-01 00:00:00|\n",
      "|        Croatia|         Nova Godina|         Nova Godina|         null|               HR|1970-01-01 00:00:00|\n",
      "|          Czech|            Nový rok|            Nový rok|         null|               CZ|1970-01-01 00:00:00|\n",
      "|        Denmark|           Nytårsdag|           Nytårsdag|         null|               DK|1970-01-01 00:00:00|\n",
      "+---------------+--------------------+--------------------+-------------+-----------------+-------------------+\n",
      "\n"
     ]
    },
    {
     "name": "stderr",
     "output_type": "stream",
     "text": [
      "                                                                                \r"
     ]
    }
   ],
   "source": [
    "newdf.show()"
   ]
  },
  {
   "cell_type": "code",
   "execution_count": 15,
   "id": "58739de3-0f36-4d94-bf7e-926a0de4d1b0",
   "metadata": {},
   "outputs": [
    {
     "name": "stderr",
     "output_type": "stream",
     "text": [
      "                                                                                \r"
     ]
    },
    {
     "data": {
      "text/plain": [
       "69557"
      ]
     },
     "execution_count": 15,
     "metadata": {},
     "output_type": "execute_result"
    }
   ],
   "source": [
    "df.count()"
   ]
  }
 ],
 "metadata": {
  "kernelspec": {
   "display_name": "Python 3 (ipykernel)",
   "language": "python",
   "name": "python3"
  },
  "language_info": {
   "codemirror_mode": {
    "name": "ipython",
    "version": 3
   },
   "file_extension": ".py",
   "mimetype": "text/x-python",
   "name": "python",
   "nbconvert_exporter": "python",
   "pygments_lexer": "ipython3",
   "version": "3.8.13"
  }
 },
 "nbformat": 4,
 "nbformat_minor": 5
}
