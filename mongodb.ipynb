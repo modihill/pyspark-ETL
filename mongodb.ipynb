{
 "cells": [
  {
   "cell_type": "markdown",
   "metadata": {},
   "source": [
    "# Spark ETL with mongoDB database\n",
    "\n",
    "[1. Create Connection with MongoDB Database](#1)\n",
    "\n",
    "[2. Read Data from MongoDB Database](#2)\n",
    "\n",
    "[3. Transform Data](#3)\n",
    "\n",
    "[4. Write Data into MongoDB Server](#4)\n",
    "\n",
    "\n",
    "\n",
    "## Spark-mongo Connector\n",
    "\n",
    "[maven Repository](https://mvnrepository.com/artifact/org.mongodb.spark/mongo-spark-connector) <br/>\n",
    "'org.mongodb.spark:mongo-spark-connector_2.12:3.0.1'\n",
    "\n",
    "### Load libraries"
   ]
  },
  {
   "cell_type": "code",
   "execution_count": 1,
   "metadata": {},
   "outputs": [],
   "source": [
    "# Load required library\n",
    "\n",
    "from pyspark.sql import SparkSession"
   ]
  },
  {
   "cell_type": "code",
   "execution_count": 2,
   "metadata": {},
   "outputs": [],
   "source": [
    "# Start SparkSession\n",
    "\n",
    "spark = SparkSession.builder.appName(\"mongoDB\") \\\n",
    "        .config('spark.jars.packages', 'org.mongodb.spark:mongo-spark-connector_2.12:3.0.1')\\\n",
    "        .getOrCreate()\n",
    "\n",
    "sqlContext = SparkSession(spark)\n",
    "spark.sparkContext.setLogLevel(\"ERROR\")"
   ]
  },
  {
   "cell_type": "markdown",
   "metadata": {},
   "source": [
    "<a id = 1> </a>\n",
    "\n",
    "## Create Connection with MondoDB Database"
   ]
  },
  {
   "cell_type": "code",
   "execution_count": 3,
   "metadata": {},
   "outputs": [],
   "source": [
    "mongo_df = spark.read.format(\"mongo\") \\\n",
    "    .option(\"uri\", \"mongodb://localhost:27017/\") \\\n",
    "    .option(\"database\", \"dataengineering\") \\\n",
    "    .option(\"collection\", \"employee\") \\\n",
    "    .load()"
   ]
  },
  {
   "cell_type": "markdown",
   "metadata": {},
   "source": [
    "<a id = 2> </a>\n",
    "## Read Data from MongoDB Server"
   ]
  },
  {
   "cell_type": "code",
   "execution_count": 4,
   "metadata": {},
   "outputs": [
    {
     "name": "stdout",
     "output_type": "stream",
     "text": [
      "root\n",
      " |-- _id: struct (nullable = true)\n",
      " |    |-- oid: string (nullable = true)\n",
      " |-- department_id: integer (nullable = true)\n",
      " |-- first_name: string (nullable = true)\n",
      " |-- id: integer (nullable = true)\n",
      " |-- last_name: string (nullable = true)\n",
      " |-- salary: integer (nullable = true)\n",
      "\n"
     ]
    }
   ],
   "source": [
    "mongo_df.printSchema()"
   ]
  },
  {
   "cell_type": "code",
   "execution_count": 5,
   "metadata": {},
   "outputs": [
    {
     "name": "stdout",
     "output_type": "stream",
     "text": [
      "+--------------------+-------------+----------+---+---------+------+\n",
      "|                 _id|department_id|first_name| id|last_name|salary|\n",
      "+--------------------+-------------+----------+---+---------+------+\n",
      "|{66dd8e06da00b95e...|         1006|      Todd|  1|   Wilson|110000|\n",
      "|{66dd8e06da00b95e...|         1006|      Todd|  1|   Wilson|106119|\n",
      "|{66dd8e06da00b95e...|         1005|    Justin|  2|    Simon|128922|\n",
      "|{66dd8e06da00b95e...|         1005|    Justin|  2|    Simon|130000|\n",
      "|{66dd8e06da00b95e...|         1002|     Kelly|  3|  Rosario| 42689|\n",
      "+--------------------+-------------+----------+---+---------+------+\n",
      "only showing top 5 rows\n",
      "\n"
     ]
    }
   ],
   "source": [
    "mongo_df.show(n=5)"
   ]
  },
  {
   "cell_type": "markdown",
   "metadata": {},
   "source": [
    "<a id = 3> </a>\n",
    "## Transform Data"
   ]
  },
  {
   "cell_type": "code",
   "execution_count": 6,
   "metadata": {},
   "outputs": [],
   "source": [
    "mongo_df.createOrReplaceTempView(\"temp_Mongo\")"
   ]
  },
  {
   "cell_type": "code",
   "execution_count": 8,
   "metadata": {},
   "outputs": [
    {
     "name": "stdout",
     "output_type": "stream",
     "text": [
      "+--------------------+-------------+----------+---+---------+------+\n",
      "|                 _id|department_id|first_name| id|last_name|salary|\n",
      "+--------------------+-------------+----------+---+---------+------+\n",
      "|{66dd8e06da00b95e...|         1006|      Todd|  1|   Wilson|110000|\n",
      "|{66dd8e06da00b95e...|         1006|      Todd|  1|   Wilson|106119|\n",
      "|{66dd8e06da00b95e...|         1005|    Justin|  2|    Simon|128922|\n",
      "|{66dd8e06da00b95e...|         1005|    Justin|  2|    Simon|130000|\n",
      "|{66dd8e06da00b95e...|         1002|     Kelly|  3|  Rosario| 42689|\n",
      "|{66dd8e06da00b95e...|         1004|  Patricia|  4|   Powell|162825|\n",
      "|{66dd8e06da00b95e...|         1004|  Patricia|  4|   Powell|170000|\n",
      "|{66dd8e06da00b95e...|         1002|    Sherry|  5|   Golden| 44101|\n",
      "|{66dd8e06da00b95e...|         1005|   Natasha|  6|  Swanson| 79632|\n",
      "|{66dd8e06da00b95e...|         1005|   Natasha|  6|  Swanson| 90000|\n",
      "+--------------------+-------------+----------+---+---------+------+\n",
      "only showing top 10 rows\n",
      "\n"
     ]
    }
   ],
   "source": [
    "sqlContext.sql(\"Select * FROM temp_Mongo\").show(n=10)\n",
    "\n"
   ]
  },
  {
   "cell_type": "code",
   "execution_count": 10,
   "metadata": {},
   "outputs": [],
   "source": [
    "new_df = sqlContext.sql(\"select first_name, salary from temp_Mongo where salary > 50000\")"
   ]
  },
  {
   "cell_type": "code",
   "execution_count": 11,
   "metadata": {},
   "outputs": [
    {
     "data": {
      "text/plain": [
       "78"
      ]
     },
     "execution_count": 11,
     "metadata": {},
     "output_type": "execute_result"
    }
   ],
   "source": [
    "new_df.count()"
   ]
  },
  {
   "cell_type": "markdown",
   "metadata": {},
   "source": [
    "<a id = 4> </a>\n",
    "\n",
    "## Write Data into MongoDB Server"
   ]
  },
  {
   "cell_type": "code",
   "execution_count": 12,
   "metadata": {},
   "outputs": [],
   "source": [
    "new_df.write.format(\"mongo\") \\\n",
    "    .option(\"uri\",\"mongodb://localhost:27017/\") \\\n",
    "    .option(\"database\",\"dataengineering\") \\\n",
    "    .option(\"collection\", \"employee1\") \\\n",
    "    .mode(\"append\").save()"
   ]
  },
  {
   "cell_type": "code",
   "execution_count": 13,
   "metadata": {},
   "outputs": [],
   "source": [
    "spark.stop()"
   ]
  }
 ],
 "metadata": {
  "kernelspec": {
   "display_name": "Python 3",
   "language": "python",
   "name": "python3"
  },
  "language_info": {
   "codemirror_mode": {
    "name": "ipython",
    "version": 3
   },
   "file_extension": ".py",
   "mimetype": "text/x-python",
   "name": "python",
   "nbconvert_exporter": "python",
   "pygments_lexer": "ipython3",
   "version": "3.7.6"
  }
 },
 "nbformat": 4,
 "nbformat_minor": 2
}
