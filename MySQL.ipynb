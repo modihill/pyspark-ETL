{
 "cells": [
  {
   "cell_type": "markdown",
   "metadata": {},
   "source": [
    "# Spark ETL with MySQL and PostgreSQL database\n",
    "\n",
    "[1. Create Connection with MYSQL Database](#1)\n",
    "\n",
    "[2. Read Data from MySQL Database](#2)\n",
    "\n",
    "[3. Transform Data](#3)\n",
    "\n",
    "[4. Write Data into MYSQL Server](#4)\n",
    "\n",
    "\n",
    "### Load libraries"
   ]
  },
  {
   "cell_type": "code",
   "execution_count": 1,
   "metadata": {},
   "outputs": [],
   "source": [
    "# loading libraries and staring spark Sessions\n",
    "from pyspark.sql import SparkSession\n"
   ]
  },
  {
   "cell_type": "code",
   "execution_count": 2,
   "metadata": {},
   "outputs": [],
   "source": [
    "# starting spark session\n",
    "\n",
    "spark = SparkSession.builder.appName(\"Spark MySQL1\")\\\n",
    "        .getOrCreate()\n",
    "\n",
    "sqlContext = SparkSession(spark)\n",
    "\n",
    "#dont show any warning, only errors\n",
    "spark.sparkContext.setLogLevel(\"ERROR\")"
   ]
  },
  {
   "cell_type": "markdown",
   "metadata": {},
   "source": [
    "<a id = 1> </a>\n",
    "\n",
    "## Create Connection with MYSQL Database"
   ]
  },
  {
   "cell_type": "code",
   "execution_count": 3,
   "metadata": {},
   "outputs": [],
   "source": [
    "# loading CSV files into DataFrame\n",
    "\n",
    "mysql_df = spark.read \\\n",
    "        .format(\"jdbc\")\\\n",
    "        .option(\"driver\",\"com.mysql.cj.jdbc.Driver\")\\\n",
    "        .option(\"url\",\"jdbc:mysql://localhost:3306/dataeng\")\\\n",
    "        .option(\"dbtable\",\"user\")\\\n",
    "        .option(\"user\",\"root\")\\\n",
    "        .option(\"password\",\"H.modi1997\")\\\n",
    "        .load()\n"
   ]
  },
  {
   "cell_type": "code",
   "execution_count": 4,
   "metadata": {},
   "outputs": [
    {
     "name": "stdout",
     "output_type": "stream",
     "text": [
      "root\n",
      " |-- id: integer (nullable = true)\n",
      " |-- name: string (nullable = true)\n",
      "\n"
     ]
    }
   ],
   "source": [
    "mysql_df.printSchema()"
   ]
  },
  {
   "cell_type": "markdown",
   "metadata": {},
   "source": [
    "<a id = 2>  </a> \n",
    "## Read Data from MySQL Database\n",
    "\n"
   ]
  },
  {
   "cell_type": "code",
   "execution_count": 5,
   "metadata": {},
   "outputs": [
    {
     "name": "stdout",
     "output_type": "stream",
     "text": [
      "+---+-------------+\n",
      "| id|         name|\n",
      "+---+-------------+\n",
      "|  1| Dustin Smith|\n",
      "|  2|  Jay Ramirez|\n",
      "|  3| Joseph Cooke|\n",
      "|  4|Melinda Young|\n",
      "|  5|  Sean Parker|\n",
      "+---+-------------+\n",
      "only showing top 5 rows\n",
      "\n"
     ]
    }
   ],
   "source": [
    "mysql_df.show(n=5)"
   ]
  },
  {
   "cell_type": "markdown",
   "metadata": {},
   "source": [
    "<a id = 3>  </a>\n",
    "\n",
    "## Transform Data"
   ]
  },
  {
   "cell_type": "code",
   "execution_count": 8,
   "metadata": {},
   "outputs": [],
   "source": [
    "mysql_df.createOrReplaceTempView(\"tempMySQL\")"
   ]
  },
  {
   "cell_type": "code",
   "execution_count": 9,
   "metadata": {},
   "outputs": [
    {
     "name": "stdout",
     "output_type": "stream",
     "text": [
      "+---+-------------------+\n",
      "| id|               name|\n",
      "+---+-------------------+\n",
      "|  1|       Dustin Smith|\n",
      "|  2|        Jay Ramirez|\n",
      "|  3|       Joseph Cooke|\n",
      "|  4|      Melinda Young|\n",
      "|  5|        Sean Parker|\n",
      "|  6|         Ian Foster|\n",
      "|  7|Christopher Schmitt|\n",
      "|  8|  Patrick Gutierrez|\n",
      "|  9|     Dennis Douglas|\n",
      "| 10|      Brenda Morris|\n",
      "+---+-------------------+\n",
      "\n"
     ]
    }
   ],
   "source": [
    "sqlContext.sql(\"select * from tempMySQL limit 10\").show()"
   ]
  },
  {
   "cell_type": "code",
   "execution_count": 10,
   "metadata": {},
   "outputs": [],
   "source": [
    "new_df = sqlContext.sql(\"select name as First_Name from tempMySQL where id > 40 \")"
   ]
  },
  {
   "cell_type": "markdown",
   "metadata": {},
   "source": [
    "<a id = 4> </a>\n",
    "\n",
    "## Write Data into MYSQL Server\n"
   ]
  },
  {
   "cell_type": "code",
   "execution_count": 11,
   "metadata": {},
   "outputs": [],
   "source": [
    "\n",
    "new_df.write \\\n",
    "    .format(\"jdbc\")\\\n",
    "    .option(\"driver\",\"com.mysql.cj.jdbc.Driver\")\\\n",
    "    .option(\"url\",\"jdbc:mysql://localhost:3306/dataeng\")\\\n",
    "    .option(\"dbtable\",\"userdata_100\")\\\n",
    "    .option(\"user\",\"root\")\\\n",
    "    .option(\"password\",\"H.modi1997\")\\\n",
    "    .save()\n"
   ]
  },
  {
   "cell_type": "code",
   "execution_count": 12,
   "metadata": {},
   "outputs": [],
   "source": [
    "spark.stop()"
   ]
  }
 ],
 "metadata": {
  "kernelspec": {
   "display_name": "Python 3",
   "language": "python",
   "name": "python3"
  },
  "language_info": {
   "codemirror_mode": {
    "name": "ipython",
    "version": 3
   },
   "file_extension": ".py",
   "mimetype": "text/x-python",
   "name": "python",
   "nbconvert_exporter": "python",
   "pygments_lexer": "ipython3",
   "version": "3.7.6"
  }
 },
 "nbformat": 4,
 "nbformat_minor": 4
}
